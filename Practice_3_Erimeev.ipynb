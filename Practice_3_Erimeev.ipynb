{
  "cells": [
    {
      "cell_type": "markdown",
      "metadata": {
        "id": "wBbCKIQKWNnW"
      },
      "source": [
        "# Уже готовая часть\n"
      ]
    },
    {
      "cell_type": "code",
      "execution_count": 1,
      "metadata": {
        "id": "yfOiF9h57rFz",
        "colab": {
          "base_uri": "https://localhost:8080/"
        },
        "outputId": "64cb9679-e01b-442d-81a5-765df5936861"
      },
      "outputs": [
        {
          "output_type": "stream",
          "name": "stdout",
          "text": [
            "Using PyTorch version: 2.5.0+cu121  Device: cuda\n"
          ]
        }
      ],
      "source": [
        "%matplotlib inline\n",
        "\n",
        "import torch\n",
        "import torch.nn as nn\n",
        "import torch.nn.functional as F\n",
        "from torchvision import datasets, transforms\n",
        "\n",
        "import numpy as np\n",
        "import matplotlib.pyplot as plt\n",
        "\n",
        "if torch.cuda.is_available():\n",
        "    device = torch.device('cuda')\n",
        "else:\n",
        "    device = torch.device('cpu')\n",
        "\n",
        "print('Using PyTorch version:', torch.__version__, ' Device:', device)"
      ]
    },
    {
      "cell_type": "code",
      "source": [
        "!pip install opencv-python"
      ],
      "metadata": {
        "id": "rdGsH92MKPgC",
        "colab": {
          "base_uri": "https://localhost:8080/"
        },
        "outputId": "583dc2e2-6a0d-4848-b676-8aa2c41b8164"
      },
      "execution_count": 2,
      "outputs": [
        {
          "output_type": "stream",
          "name": "stdout",
          "text": [
            "Requirement already satisfied: opencv-python in /usr/local/lib/python3.10/dist-packages (4.10.0.84)\n",
            "Requirement already satisfied: numpy>=1.21.2 in /usr/local/lib/python3.10/dist-packages (from opencv-python) (1.26.4)\n"
          ]
        }
      ]
    },
    {
      "cell_type": "code",
      "source": [
        "!unzip -q data.zip -d data"
      ],
      "metadata": {
        "id": "bqWWYwzfjNJu"
      },
      "execution_count": 7,
      "outputs": []
    },
    {
      "cell_type": "code",
      "execution_count": 8,
      "metadata": {
        "id": "GiLLWPFM7rF1",
        "colab": {
          "base_uri": "https://localhost:8080/"
        },
        "outputId": "bd0ce624-e421-4f4a-efec-8711954d4fa6"
      },
      "outputs": [
        {
          "output_type": "execute_result",
          "data": {
            "text/plain": [
              "[')',\n",
              " ',',\n",
              " '2',\n",
              " 't',\n",
              " '+',\n",
              " '-',\n",
              " '1',\n",
              " '7',\n",
              " 'y',\n",
              " 'times',\n",
              " '3',\n",
              " 'X',\n",
              " '4',\n",
              " '0',\n",
              " '9',\n",
              " '6',\n",
              " '5',\n",
              " 'w',\n",
              " '8',\n",
              " '1',\n",
              " 'h',\n",
              " '(']"
            ]
          },
          "metadata": {},
          "execution_count": 8
        }
      ],
      "source": [
        "import os\n",
        "path_to_folder = './data' # путь к папке с данными\n",
        "name_folders = [x[0].split('/')[-1] for x in os.walk(path_to_folder)]\n",
        "name_folders = name_folders[1:]\n",
        "name_folders"
      ]
    },
    {
      "cell_type": "code",
      "execution_count": 9,
      "metadata": {
        "id": "dLwzi-PY7rF2",
        "colab": {
          "base_uri": "https://localhost:8080/"
        },
        "outputId": "1032373c-9e76-436c-bf6d-e6db28c10cc1"
      },
      "outputs": [
        {
          "output_type": "execute_result",
          "data": {
            "text/plain": [
              "22"
            ]
          },
          "metadata": {},
          "execution_count": 9
        }
      ],
      "source": [
        "len(name_folders)"
      ]
    },
    {
      "cell_type": "code",
      "execution_count": 10,
      "metadata": {
        "id": "b4SX8z1B7rF2"
      },
      "outputs": [],
      "source": [
        "NUM_CLASSES = len(name_folders)\n",
        "MAX_FILES = 1200\n",
        "MIN_FILES = 1000"
      ]
    },
    {
      "cell_type": "code",
      "execution_count": 11,
      "metadata": {
        "id": "YLr4mp3h7rF3"
      },
      "outputs": [],
      "source": [
        "class_idx = [i for i in range(len(name_folders))]"
      ]
    },
    {
      "cell_type": "code",
      "execution_count": 12,
      "metadata": {
        "id": "xgJEeV9J7rF3"
      },
      "outputs": [],
      "source": [
        "dict_folders = {name_folders[i]:class_idx[i] for i in range(len(class_idx))}"
      ]
    },
    {
      "cell_type": "code",
      "execution_count": 13,
      "metadata": {
        "id": "mzEAl0H27rF3",
        "colab": {
          "base_uri": "https://localhost:8080/"
        },
        "outputId": "aa105459-e1a9-455b-defa-fb9b12876a45"
      },
      "outputs": [
        {
          "output_type": "execute_result",
          "data": {
            "text/plain": [
              "{')': 0,\n",
              " ',': 1,\n",
              " '2': 2,\n",
              " 't': 3,\n",
              " '+': 4,\n",
              " '-': 5,\n",
              " '1': 19,\n",
              " '7': 7,\n",
              " 'y': 8,\n",
              " 'times': 9,\n",
              " '3': 10,\n",
              " 'X': 11,\n",
              " '4': 12,\n",
              " '0': 13,\n",
              " '9': 14,\n",
              " '6': 15,\n",
              " '5': 16,\n",
              " 'w': 17,\n",
              " '8': 18,\n",
              " 'h': 20,\n",
              " '(': 21}"
            ]
          },
          "metadata": {},
          "execution_count": 13
        }
      ],
      "source": [
        "dict_folders"
      ]
    },
    {
      "cell_type": "code",
      "execution_count": 14,
      "metadata": {
        "id": "N4bUYbBH7rF3"
      },
      "outputs": [],
      "source": [
        "file_names = []\n",
        "class_labels = []\n",
        "for path, subdirs, files in os.walk(path_to_folder):\n",
        "    for name in files:\n",
        "        file_names.append(os.path.join(path, name))\n",
        "        class_labels.append(dict_folders[path.split('/')[-1]])"
      ]
    },
    {
      "cell_type": "code",
      "execution_count": 15,
      "metadata": {
        "id": "5dxF0NtF7rF4"
      },
      "outputs": [],
      "source": [
        "import pandas as pd\n",
        "import skimage\n",
        "from skimage import io,morphology\n",
        "from PIL import Image, ImageOps\n",
        "from torchvision.io import read_image, ImageReadMode\n",
        "from torch.utils.data import Dataset\n",
        "from torchvision import transforms\n",
        "from random import shuffle\n",
        "import cv2\n",
        "\n",
        "class NumericDataset(Dataset):\n",
        "\n",
        "    def __init__(self, root_dir, img_size, num_classes, transform = None):\n",
        "        self.root_dir = root_dir\n",
        "        self.img_size = img_size # !!! внимательно при изменении размеров изображения\n",
        "        self.transform = transform\n",
        "        self.num_classes = num_classes\n",
        "        file_names = []\n",
        "        class_labels = []\n",
        "        for path, subdirs, files in os.walk(path_to_folder):\n",
        "            for (idx,name) in enumerate(files):\n",
        "                if(idx < MAX_FILES and idx > MIN_FILES):\n",
        "                    file_names.append(os.path.join(path, name))\n",
        "                    class_labels.append(dict_folders[path.split('/')[-1]])\n",
        "        self.files = [[file_names[i],class_labels[i]] for i in range(len(file_names))]#!!!\n",
        "        shuffle(self.files)\n",
        "\n",
        "    def __len__(self):\n",
        "        return len(self.files)\n",
        "\n",
        "    def __getitem__(self, idx):\n",
        "        img_name = self.files[idx][0]\n",
        "\n",
        "        img = cv2.imread(img_name, cv2.COLOR_RGB2GRAY)\n",
        "        image = img\n",
        "        #kernel = np.ones((5,5),np.uint8)\n",
        "        #image = 255 - img #inverting\n",
        "        #image = cv2.erode(img,kernel,iterations = 1)\n",
        "        #image = Image.open(img_name)\n",
        "        image = cv2.resize(image,(self.img_size, self.img_size))\n",
        "        image = cv2.bitwise_not(image) / 255\n",
        "        #image[image == 0] = 1\n",
        "        #image[image==0] = -1\n",
        "        #image = cv2.cvtColor(image,cv2.COLOR_RGB2GRAY)\n",
        "        image = np.asarray(image).astype(float)#.reshape(3,self.img_size,self.img_size)\n",
        "        #image = np.dstack([image,image,image])\n",
        "\n",
        "        #image =  (1 - (torch.from_numpy(image)/255.0)) * 2 -1\n",
        "\n",
        "        target = [0 for i in range(self.num_classes)]\n",
        "        target[self.files[idx][1]] = 1\n",
        "        target = torch.FloatTensor(target)\n",
        "\n",
        "        image = torch.FloatTensor(image[:,:,0])\n",
        "        if self.transform:\n",
        "            image = self.transform(image)\n",
        "\n",
        "        return image,target,self.files[idx][1]"
      ]
    },
    {
      "cell_type": "code",
      "execution_count": 16,
      "metadata": {
        "id": "WYDkmGNH7rF4"
      },
      "outputs": [],
      "source": [
        "from torch.utils.data import DataLoader\n",
        "from torchvision import transforms\n",
        "#transforms = torch.nn.Sequential(\n",
        "#    transforms.Resize((28,28))\n",
        "#)\n",
        "batch_size = (MAX_FILES-MIN_FILES)*NUM_CLASSES\n",
        "IMAGE_SIZE = 32\n",
        "num_train_dataloader = DataLoader(NumericDataset(path_to_folder,IMAGE_SIZE,NUM_CLASSES), batch_size=batch_size, shuffle=True)"
      ]
    },
    {
      "cell_type": "code",
      "execution_count": 17,
      "metadata": {
        "id": "T0dMxHKi7rF4",
        "colab": {
          "base_uri": "https://localhost:8080/"
        },
        "outputId": "56bbaa5e-3c5b-4c60-ffb6-78e2f12c948a"
      },
      "outputs": [
        {
          "output_type": "stream",
          "name": "stdout",
          "text": [
            "X_train: torch.Size([3781, 32, 32]) type: torch.FloatTensor\n",
            "y_train: torch.Size([3781, 22]) type: torch.FloatTensor\n"
          ]
        }
      ],
      "source": [
        "for (X_train, y_train,class_idx) in num_train_dataloader:\n",
        "    print('X_train:', X_train.size(), 'type:', X_train.type())\n",
        "    print('y_train:', y_train.size(), 'type:', y_train.type())\n",
        "    break"
      ]
    },
    {
      "cell_type": "code",
      "execution_count": 18,
      "metadata": {
        "id": "PIKgBeys7rF5"
      },
      "outputs": [],
      "source": [
        "class Net(nn.Module):\n",
        "    def __init__(self):\n",
        "        super(Net, self).__init__()\n",
        "        self.fc1 = nn.Linear(IMAGE_SIZE*IMAGE_SIZE, 4*IMAGE_SIZE*IMAGE_SIZE)\n",
        "        #self.fc1_drop = nn.Dropout(0.2)\n",
        "        self.fc2 = nn.Linear(4*IMAGE_SIZE*IMAGE_SIZE, 4*NUM_CLASSES)\n",
        "        #self.fc2_drop = nn.Dropout(0.2)\n",
        "        self.fc3 = nn.Linear(4*NUM_CLASSES, NUM_CLASSES)\n",
        "\n",
        "    def forward(self, x):\n",
        "        x = x.view(-1, IMAGE_SIZE*IMAGE_SIZE)\n",
        "        #x = F.sigmoid(self.fc1(x))\n",
        "        x = self.fc1(x)\n",
        "        #x = self.fc1_drop(x)\n",
        "        #x = F.sigmoid(self.fc2(x))\n",
        "        x = self.fc2(x)\n",
        "        #x = self.fc2_drop(x)\n",
        "        #return F.softmax(self.fc3(x), dim=1)\n",
        "        return self.fc3(x)\n"
      ]
    },
    {
      "cell_type": "markdown",
      "metadata": {
        "id": "fDB2hEckWGf7"
      },
      "source": [
        "# Домашняя часть"
      ]
    },
    {
      "cell_type": "code",
      "execution_count": null,
      "metadata": {
        "id": "wUWm6R6Z7rF6"
      },
      "outputs": [],
      "source": [
        "# Преоразовать существующий код для распознавания последовательности рукописных символов в текст.\n",
        "# Написать генератор произвольной последовательности рукописных символов.\n",
        "\n",
        "# ГЕНЕРАЦИЯ НАБОРА ДАННЫХ\n",
        "# Сгенерировать набор текстовых строк из допустимых символов.\n",
        "# Каждому набору поставить в соотвествие массив изоражений соответствующих символов.\n",
        "# Добавить пробелы для разделения слов, символы пробелов не использовать во время классификации.\n",
        "\n",
        "# КЛАССИФИКАЦИЯ\n",
        "#Часть символов оставить для обучения классификатора. Остальные  классифицировать\n",
        "#по аналогии с примером mnist с  прошлого занятия. Т.е. преобразовывать изображение в вектор.\n",
        "# Выбрать оптимальный классификатор.\n",
        "# Варьировать только k- количество соседей.\n",
        "# Метрика для измерения точности классификации, и выбора оптимального классификатора относительно параметра k - accuracy.\n",
        "\n",
        "# РАСПОЗНАВАНИЕ\n",
        "# Итак, к данному этапу Вы из массива изображений \"восстановили\" текст.\n",
        "# Случайно удалите некоторые символы,и случайно добавьте символы в результат распознавания.\n",
        "# Рассчитайте метрику CER.\n"
      ]
    },
    {
      "cell_type": "markdown",
      "source": [
        "#Генерация набора даннах"
      ],
      "metadata": {
        "id": "kzNrTaMoO_FP"
      }
    },
    {
      "cell_type": "code",
      "source": [
        "import random\n",
        "import os\n",
        "\n",
        "path_to_folder = './data' # путь к папке с данными\n",
        "name_folders = [x[0].split('/')[-1] for x in os.walk(path_to_folder)]\n",
        "name_folders = name_folders[1:]\n",
        "name_folders.remove('times')\n",
        "\n",
        "name_folders"
      ],
      "metadata": {
        "id": "lY-B7gJ6OXe8",
        "colab": {
          "base_uri": "https://localhost:8080/"
        },
        "outputId": "393eace8-1ba3-43a3-bd3c-ee2d39489041"
      },
      "execution_count": 19,
      "outputs": [
        {
          "output_type": "execute_result",
          "data": {
            "text/plain": [
              "[')',\n",
              " ',',\n",
              " '2',\n",
              " 't',\n",
              " '+',\n",
              " '-',\n",
              " '1',\n",
              " '7',\n",
              " 'y',\n",
              " '3',\n",
              " 'X',\n",
              " '4',\n",
              " '0',\n",
              " '9',\n",
              " '6',\n",
              " '5',\n",
              " 'w',\n",
              " '8',\n",
              " '1',\n",
              " 'h',\n",
              " '(']"
            ]
          },
          "metadata": {},
          "execution_count": 19
        }
      ]
    },
    {
      "cell_type": "code",
      "execution_count": 20,
      "metadata": {
        "id": "5d2Yp1MIvVFW",
        "colab": {
          "base_uri": "https://localhost:8080/",
          "height": 127
        },
        "outputId": "23c55053-cb2e-426d-9a70-f1edd6250303"
      },
      "outputs": [
        {
          "output_type": "stream",
          "name": "stdout",
          "text": [
            "Сгенерированная последовательность: 75Xh71\n",
            "Последовательность с пробелами: 7 5 X h 7 1 \n"
          ]
        },
        {
          "output_type": "display_data",
          "data": {
            "text/plain": [
              "<Figure size 500x300 with 6 Axes>"
            ],
            "image/png": "[encoded data removed]"
          },
          "metadata": {}
        }
      ],
      "source": [
        "import os\n",
        "import random\n",
        "import matplotlib.pyplot as plt\n",
        "import matplotlib.image as mpimg\n",
        "\n",
        "# Допустимые символы\n",
        "allowed_symbols = name_folders  # Предполагается, что name_folders определен ранее\n",
        "\n",
        "# Генерация последовательности символов\n",
        "def generate_random_sequence(length=6):\n",
        "    return ''.join(random.choices(allowed_symbols, k=length))\n",
        "\n",
        "# Присвоение каждому символу папки с изображениями\n",
        "def find_random_images(sequence, allowed_symbols):\n",
        "    result = []\n",
        "    for symbol in sequence:\n",
        "        if symbol in allowed_symbols:\n",
        "            images_list = os.listdir(f\"./data/{symbol}\")\n",
        "            filtered_images = [img for img in images_list if img.startswith(f\"{symbol}_\")]\n",
        "            if filtered_images:  # Если есть изображения, выбираем случайное\n",
        "                random_image = random.choice(filtered_images)\n",
        "                result.append(f\"./data/{symbol}/{random_image}\")\n",
        "    return result\n",
        "\n",
        "# Функция добавления пробелов\n",
        "def add_spaces(sequence):\n",
        "    spaced_sequence = []\n",
        "    for symbol in sequence:\n",
        "        spaced_sequence.append(symbol)\n",
        "        spaced_sequence.append(' ')\n",
        "    return ''.join(spaced_sequence)\n",
        "\n",
        "# Генерация последовательности\n",
        "generated_sequence = generate_random_sequence()\n",
        "print(\"Сгенерированная последовательность:\", generated_sequence)\n",
        "\n",
        "# Добавляем пробелы к сгенерированной последовательности\n",
        "spaced_sequence = add_spaces(generated_sequence)\n",
        "print(\"Последовательность с пробелами:\", spaced_sequence)\n",
        "\n",
        "# Получаем случайные изображения\n",
        "image_paths = find_random_images(generated_sequence, allowed_symbols)\n",
        "\n",
        "# Визуализация изображений\n",
        "plt.figure(figsize=(5, 3))\n",
        "for idx, img_path in enumerate(image_paths):\n",
        "    img = mpimg.imread(img_path)\n",
        "    plt.subplot(1, len(image_paths), idx + 1)\n",
        "    plt.imshow(img, cmap='gray')  # Отображение в чёрно-белом\n",
        "    plt.axis('off')  # Отключаем оси\n",
        "plt.show()\n"
      ]
    },
    {
      "cell_type": "markdown",
      "source": [
        "#Классификация"
      ],
      "metadata": {
        "id": "j0rrBwuYPDTX"
      }
    },
    {
      "cell_type": "code",
      "source": [
        "# Импортируем необходимые библиотеки\n",
        "import os\n",
        "import random\n",
        "import numpy as np\n",
        "import matplotlib.pyplot as plt\n",
        "import matplotlib.image as mpimg\n",
        "from sklearn.model_selection import train_test_split\n",
        "from sklearn.neighbors import KNeighborsClassifier\n",
        "from sklearn.metrics import accuracy_score\n",
        "\n",
        "# Шаг 1: Подготовка данных\n",
        "def load_images_from_folder(folder, num_train_per_class=900, num_test_per_class=500):\n",
        "    images = []\n",
        "    labels = []\n",
        "\n",
        "    # Проходим по каждой папке, название которой соответствует символу\n",
        "    for label in os.listdir(folder):\n",
        "        if label in allowed_symbols:  # Проверяем, что папка является допустимым символом\n",
        "            label_folder = os.path.join(folder, label)\n",
        "            # Собираем все изображения в папке\n",
        "            all_images = [os.path.join(label_folder, filename) for filename in os.listdir(label_folder)\n",
        "                          if os.path.isfile(os.path.join(label_folder, filename)) and\n",
        "                          (filename.endswith('.png') or filename.endswith('.jpg'))]\n",
        "\n",
        "            # Проверяем, что в папке достаточно изображений\n",
        "            if len(all_images) >= num_train_per_class + num_test_per_class:\n",
        "                # Случайная выборка 100 изображений для обучения и 300 для тестирования\n",
        "                selected_images = random.sample(all_images, num_train_per_class + num_test_per_class)\n",
        "                train_images = selected_images[:num_train_per_class]\n",
        "                test_images = selected_images[num_train_per_class:]\n",
        "\n",
        "                # Выводим информацию о количестве выбранных изображений для каждой папки\n",
        "                print(f\"Папка '{label}': выбрано {len(train_images)} изображений для обучения и {len(test_images)} для тестирования.\")\n",
        "\n",
        "                # Добавляем изображения для обучения\n",
        "                for img_path in train_images:\n",
        "                    img = mpimg.imread(img_path)\n",
        "                    img_vector = img.flatten()  # Преобразуем изображение в вектор\n",
        "                    images.append(img_vector)\n",
        "                    labels.append(label)\n",
        "\n",
        "                # Добавляем изображения для тестирования\n",
        "                for img_path in test_images:\n",
        "                    img = mpimg.imread(img_path)\n",
        "                    img_vector = img.flatten()  # Преобразуем изображение в вектор\n",
        "                    images.append(img_vector)\n",
        "                    labels.append(label)\n",
        "            else:\n",
        "                print(f\"Недостаточно изображений в папке '{label}' для выборки.\")\n",
        "\n",
        "    return np.array(images), np.array(labels)\n",
        "\n",
        "# Загрузка изображений\n",
        "X, y = load_images_from_folder('./data')\n",
        "\n",
        "# Разделение на обучающую и тестовую выборки\n",
        "X_train, X_test, y_train, y_test = train_test_split(X, y, test_size=0.2, random_state=42)\n",
        "\n",
        "# Шаг 2: Обучение классификатора KNN\n",
        "k_values = range(1, 4)  # Параметр k от 1 до 3\n",
        "accuracies = []\n",
        "\n",
        "for k in k_values:\n",
        "    knn = KNeighborsClassifier(n_neighbors=k)\n",
        "    knn.fit(X_train, y_train)\n",
        "    y_pred = knn.predict(X_test)\n",
        "    accuracy = accuracy_score(y_test, y_pred)\n",
        "    accuracies.append(accuracy)\n",
        "    print(f\"Точность для k={k}: {accuracy:.2f}\")\n",
        "\n",
        "# Шаг 3: Визуализация результатов\n",
        "plt.figure(figsize=(10, 5))\n",
        "plt.plot(k_values, accuracies, marker='o')\n",
        "plt.title('Точность KNN в зависимости от k')\n",
        "plt.xlabel('Количество соседей (k)')\n",
        "plt.ylabel('Точность')\n",
        "plt.xticks(k_values)\n",
        "plt.grid()\n",
        "plt.show()\n",
        "\n"
      ],
      "metadata": {
        "id": "rMqUsMyyRXph",
        "colab": {
          "base_uri": "https://localhost:8080/",
          "height": 886
        },
        "outputId": "a740c962-9a31-45fe-b349-c37c69381765"
      },
      "execution_count": 34,
      "outputs": [
        {
          "output_type": "stream",
          "name": "stdout",
          "text": [
            "Папка ')': выбрано 900 изображений для обучения и 500 для тестирования.\n",
            "Папка ',': выбрано 900 изображений для обучения и 500 для тестирования.\n",
            "Папка '2': выбрано 900 изображений для обучения и 500 для тестирования.\n",
            "Папка 't': выбрано 900 изображений для обучения и 500 для тестирования.\n",
            "Папка '+': выбрано 900 изображений для обучения и 500 для тестирования.\n",
            "Папка '-': выбрано 900 изображений для обучения и 500 для тестирования.\n",
            "Папка '1': выбрано 900 изображений для обучения и 500 для тестирования.\n",
            "Папка '7': выбрано 900 изображений для обучения и 500 для тестирования.\n",
            "Папка 'y': выбрано 900 изображений для обучения и 500 для тестирования.\n",
            "Папка '3': выбрано 900 изображений для обучения и 500 для тестирования.\n",
            "Папка 'X': выбрано 900 изображений для обучения и 500 для тестирования.\n",
            "Папка '4': выбрано 900 изображений для обучения и 500 для тестирования.\n",
            "Папка '0': выбрано 900 изображений для обучения и 500 для тестирования.\n",
            "Недостаточно изображений в папке '9' для выборки.\n",
            "Папка '6': выбрано 900 изображений для обучения и 500 для тестирования.\n",
            "Папка '5': выбрано 900 изображений для обучения и 500 для тестирования.\n",
            "Недостаточно изображений в папке 'w' для выборки.\n",
            "Папка '8': выбрано 900 изображений для обучения и 500 для тестирования.\n",
            "Папка 'h': выбрано 900 изображений для обучения и 500 для тестирования.\n",
            "Папка '(': выбрано 900 изображений для обучения и 500 для тестирования.\n",
            "Точность для k=1: 0.69\n",
            "Точность для k=2: 0.52\n",
            "Точность для k=3: 0.50\n"
          ]
        },
        {
          "output_type": "display_data",
          "data": {
            "text/plain": [
              "<Figure size 1000x500 with 1 Axes>"
            ],
            "image/png": "[encoded data removed]"
          },
          "metadata": {}
        }
      ]
    },
    {
      "cell_type": "code",
      "source": [
        "import random\n",
        "import numpy as np\n",
        "import matplotlib.pyplot as plt\n",
        "import matplotlib.image as mpimg\n",
        "from sklearn.model_selection import train_test_split\n",
        "from sklearn.neighbors import KNeighborsClassifier\n",
        "from sklearn.metrics import accuracy_score\n",
        "\n",
        "# Определение функций\n",
        "def modify_text(text, max_changes=3):\n",
        "    text_list = list(text)\n",
        "    changes = random.randint(1, max_changes)\n",
        "\n",
        "    for _ in range(changes):\n",
        "        action = random.choice(['add', 'remove'])\n",
        "        if action == 'add':\n",
        "            random_symbol = random.choice(allowed_symbols)\n",
        "            position = random.randint(0, len(text_list))\n",
        "            text_list.insert(position, random_symbol)\n",
        "        elif action == 'remove' and text_list:\n",
        "            position = random.randint(0, len(text_list) - 1)\n",
        "            del text_list[position]\n",
        "\n",
        "    return ''.join(text_list)\n",
        "\n",
        "def calculate_cer(original, modified):\n",
        "    n = len(original)\n",
        "    m = len(modified)\n",
        "    dp = [[0] * (m + 1) for _ in range(n + 1)]\n",
        "\n",
        "    for i in range(n + 1):\n",
        "        for j in range(m + 1):\n",
        "            if i == 0:\n",
        "                dp[i][j] = j  # Все добавления\n",
        "            elif j == 0:\n",
        "                dp[i][j] = i  # Все удаления\n",
        "            elif original[i - 1] == modified[j - 1]:\n",
        "                dp[i][j] = dp[i - 1][j - 1]  # Символы совпадают\n",
        "            else:\n",
        "                dp[i][j] = min(dp[i - 1][j] + 1,     # Удаление\n",
        "                               dp[i][j - 1] + 1,     # Добавление\n",
        "                               dp[i - 1][j - 1] + 1) # Замена\n",
        "\n",
        "    edits = dp[n][m]\n",
        "    cer = edits / n if n > 0 else 0\n",
        "    return cer\n",
        "\n",
        "\n",
        "# Генерация последовательности\n",
        "generated_sequence = generate_random_sequence()\n",
        "print(\"Сгенерированная последовательность:\", generated_sequence)\n",
        "\n",
        "# Шаг 2: Получение изображений для распознавания\n",
        "image_paths = find_random_images(generated_sequence, allowed_symbols)\n",
        "\n",
        "# Шаг 3: Предсказание символов\n",
        "def recognize_characters(image_paths):\n",
        "    recognized_text = []\n",
        "    for img_path in image_paths:\n",
        "        img = mpimg.imread(img_path)\n",
        "        img_vector = img.flatten().reshape(1, -1)  # Преобразуем изображение в вектор\n",
        "        prediction = knn.predict(img_vector)  # Предсказание символа\n",
        "        recognized_text.append(prediction[0])  # Добавляем предсказанный символ\n",
        "    return ''.join(recognized_text)\n",
        "\n",
        "# Распознаем символы\n",
        "recognized_text = recognize_characters(image_paths)\n",
        "print(\"Распознанный текст:\", recognized_text)\n",
        "\n",
        "# Шаг 4: Изменение текста\n",
        "modified_sequence = modify_text(recognized_text)\n",
        "print(\"Изменённая последовательность:\", modified_sequence)\n",
        "\n",
        "# Рассчитываем CER\n",
        "cer_value = calculate_cer(generated_sequence, modified_sequence)\n",
        "print(\"CER:\", cer_value)\n",
        "\n",
        "# Шаг 5: Визуализация изображений\n",
        "plt.figure(figsize=(5, 3))\n",
        "for idx, img_path in enumerate(image_paths):\n",
        "    img = mpimg.imread(img_path)\n",
        "    plt.subplot(1, len(image_paths), idx + 1)\n",
        "    plt.imshow(img, cmap='gray')  # Отображение в чёрно-белом\n",
        "    plt.axis('off')  # Отключаем оси\n",
        "plt.show()\n"
      ],
      "metadata": {
        "colab": {
          "base_uri": "https://localhost:8080/",
          "height": 161
        },
        "id": "WVGQ7bOFneXm",
        "outputId": "90570c89-7008-49da-d124-283090b7842c"
      },
      "execution_count": 35,
      "outputs": [
        {
          "output_type": "stream",
          "name": "stdout",
          "text": [
            "Сгенерированная последовательность: hh9,37\n",
            "Распознанный текст: hh)137\n",
            "Изменённая последовательность: h)w1373\n",
            "CER: 0.6666666666666666\n"
          ]
        },
        {
          "output_type": "display_data",
          "data": {
            "text/plain": [
              "<Figure size 500x300 with 6 Axes>"
            ],
            "image/png": "[encoded data removed]"
          },
          "metadata": {}
        }
      ]
    }
  ],
  "metadata": {
    "colab": {
      "provenance": [],
      "gpuType": "T4"
    },
    "kernelspec": {
      "display_name": "Python 3",
      "name": "python3"
    },
    "language_info": {
      "codemirror_mode": {
        "name": "ipython",
        "version": 3
      },
      "file_extension": ".py",
      "mimetype": "text/x-python",
      "name": "python",
      "nbconvert_exporter": "python",
      "pygments_lexer": "ipython3",
      "version": "3.8.0"
    },
    "accelerator": "GPU"
  },
  "nbformat": 4,
  "nbformat_minor": 0
}