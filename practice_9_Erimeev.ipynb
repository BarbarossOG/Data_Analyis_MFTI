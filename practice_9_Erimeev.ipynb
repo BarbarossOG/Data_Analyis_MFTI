{
  "cells": [
    {
      "cell_type": "code",
      "execution_count": 1,
      "metadata": {
        "id": "Qw688STi6Z6k"
      },
      "outputs": [],
      "source": [
        "# Standard libraries\n",
        "import os\n",
        "import random\n",
        "from tqdm.notebook import tqdm\n",
        "\n",
        "# Data manipulation and visualization\n",
        "import matplotlib.pyplot as plt\n",
        "from PIL import Image\n",
        "import seaborn as sns\n",
        "import pandas as pd\n",
        "import numpy as np\n",
        "\n",
        "# Deep Learning libraries\n",
        "import torch\n",
        "import torchvision\n",
        "import torchsummary\n",
        "from torch.utils import data\n",
        "from torchvision import datasets, models, transforms\n",
        "\n",
        "# Set seed for reproducibility\n",
        "SEED = 42\n",
        "np.random.seed(SEED)"
      ]
    },
    {
      "cell_type": "code",
      "source": [
        "!unzip -q EuroSAT_small.zip"
      ],
      "metadata": {
        "id": "fjALx9slm1cw"
      },
      "execution_count": 2,
      "outputs": []
    },
    {
      "cell_type": "code",
      "execution_count": 3,
      "metadata": {
        "id": "GPzhNed7P2i9"
      },
      "outputs": [],
      "source": [
        "device = torch.device(\"cuda\" if torch.cuda.is_available() else \"cpu\")"
      ]
    },
    {
      "cell_type": "code",
      "execution_count": 22,
      "metadata": {
        "id": "SsK-rDJyUFpV"
      },
      "outputs": [],
      "source": [
        "from torch.utils.data import DataLoader, Dataset\n",
        "from glob import glob\n",
        "from itertools import chain\n",
        "import random\n",
        "\n",
        "class EuroSATDataset(Dataset):\n",
        "\n",
        "    def __init__(self, root, train_flag = True):\n",
        "\n",
        "        self.train_flag = train_flag\n",
        "        self.root = root\n",
        "        self.images_paths = [glob(f'{root}/{folder}/*.jpg') for folder in os.listdir(f\"{root}\")]\n",
        "        self.images_paths = list(chain.from_iterable(self.images_paths))\n",
        "        random.shuffle(self.images_paths)\n",
        "\n",
        "        # комментарий преподавателя: на текущей машине очень мало мощностей, максимально обрезаем данные\n",
        "        # для обучения и валидации в соотношении 100/30\n",
        "\n",
        "        self.count = {True: 100}\n",
        "        self.count[False] = 30\n",
        "\n",
        "\n",
        "        self.classes_names = {class_name:label for label, class_name in enumerate(os.listdir(f\"{root}\"))}\n",
        "        self.labels = [self.classes_names[os.path.basename(os.path.dirname(path))] for path in self.images_paths]\n",
        "\n",
        "        # применяем аугментациб данных. В качестве ДЗ расширите список применяемых преобразований.\n",
        "        self.transform_train = transforms.Compose([\n",
        "            transforms.Normalize(mean=[0.485,0.456, 0.406],std=[0.229, 0.224, 0.225]),\n",
        "            torchvision.transforms.RandomResizedCrop((224,224))\n",
        "                                                  ])\n",
        "        self.transform_test =  transforms.Normalize(mean=[0.485,0.456, 0.406],std=[0.229, 0.224, 0.225])\n",
        "\n",
        "\n",
        "    def __len__(self):\n",
        "        return self.count[self.train_flag]\n",
        "\n",
        "    def __getitem__(self, index):\n",
        "        if (self.train_flag):\n",
        "            index = index % self.count[True]\n",
        "        else:\n",
        "            index = self.count[True] + index % self.count[False]\n",
        "        image_path = self.images_paths[index]\n",
        "        image = cv2.imread(image_path)[:,:,::-1]\n",
        "        image = cv2.resize(image, (224,224))\n",
        "        image = torch.tensor(image/255).permute(2,0,1).to(device)\n",
        "\n",
        "        if self.train_flag:\n",
        "            image = self.transform_train(image)\n",
        "        else:\n",
        "            image = self.transform_test(image)\n",
        "        label = self.labels[index]\n",
        "\n",
        "        return image.float().to(device), torch.tensor([label]).float().to(device)"
      ]
    },
    {
      "cell_type": "code",
      "execution_count": 23,
      "metadata": {
        "colab": {
          "base_uri": "https://localhost:8080/"
        },
        "id": "p294GniNmvop",
        "outputId": "0e8c01e9-786c-42ed-92d1-496296ef1e36"
      },
      "outputs": [
        {
          "output_type": "execute_result",
          "data": {
            "text/plain": [
              "100"
            ]
          },
          "metadata": {},
          "execution_count": 23
        }
      ],
      "source": [
        "data =  EuroSATDataset('./EuroSAT_small/2750', train_flag=True)\n",
        "len(data)"
      ]
    },
    {
      "cell_type": "code",
      "execution_count": 24,
      "metadata": {
        "colab": {
          "base_uri": "https://localhost:8080/",
          "height": 523
        },
        "id": "Kii63GN0mvoq",
        "outputId": "a2e24b07-e249-4097-bbe9-ccb6f410a78a"
      },
      "outputs": [
        {
          "output_type": "stream",
          "name": "stderr",
          "text": [
            "WARNING:matplotlib.image:Clipping input data to the valid range for imshow with RGB data ([0..1] for floats or [0..255] for integers).\n"
          ]
        },
        {
          "output_type": "stream",
          "name": "stdout",
          "text": [
            "Image Size: 224 x 224 x 3\n",
            "Label: tensor([5.], device='cuda:0')\n",
            "River\n"
          ]
        },
        {
          "output_type": "display_data",
          "data": {
            "text/plain": [
              "<Figure size 640x480 with 1 Axes>"
            ],
            "image/png": "[encoded data removed]"
          },
          "metadata": {}
        }
      ],
      "source": [
        "import random\n",
        "import cv2\n",
        "\n",
        "image, label = data[random.randint(0, len(data))]\n",
        "print(f\"Image Size: {image.shape[2]} x {image.shape[1]} x {image.shape[0]}\")\n",
        "print(f\"Label: {label}\")\n",
        "print([key  for key, value in data.classes_names.items() if value == label][0])\n",
        "plt.imshow(image.permute(1,2,0).cpu().numpy())\n",
        "plt.show()"
      ]
    },
    {
      "cell_type": "code",
      "execution_count": 25,
      "metadata": {
        "id": "Dv9VqGosmvoq"
      },
      "outputs": [],
      "source": [
        "train_dataset = EuroSATDataset('./EuroSAT_small/2750')\n",
        "test_dataset = EuroSATDataset('./EuroSAT_small/2750',train_flag = False)\n",
        "train_dataset_loader = DataLoader(train_dataset, batch_size=32, shuffle=True, drop_last=True)\n",
        "test_dataset_loader = DataLoader(test_dataset, batch_size=1, shuffle=True, drop_last=True)"
      ]
    },
    {
      "cell_type": "code",
      "execution_count": 26,
      "metadata": {
        "colab": {
          "base_uri": "https://localhost:8080/"
        },
        "id": "gPXbNl_TLHQQ",
        "outputId": "2b8d8d74-8155-47b1-ae82-ba30f40d6cd3"
      },
      "outputs": [
        {
          "output_type": "stream",
          "name": "stdout",
          "text": [
            "----------------------------------------------------------------\n",
            "        Layer (type)               Output Shape         Param #\n",
            "================================================================\n",
            "            Conv2d-1         [-1, 64, 112, 112]           9,408\n",
            "       BatchNorm2d-2         [-1, 64, 112, 112]             128\n",
            "              ReLU-3         [-1, 64, 112, 112]               0\n",
            "         MaxPool2d-4           [-1, 64, 56, 56]               0\n",
            "            Conv2d-5           [-1, 64, 56, 56]          36,864\n",
            "       BatchNorm2d-6           [-1, 64, 56, 56]             128\n",
            "              ReLU-7           [-1, 64, 56, 56]               0\n",
            "            Conv2d-8           [-1, 64, 56, 56]          36,864\n",
            "       BatchNorm2d-9           [-1, 64, 56, 56]             128\n",
            "             ReLU-10           [-1, 64, 56, 56]               0\n",
            "       BasicBlock-11           [-1, 64, 56, 56]               0\n",
            "           Conv2d-12           [-1, 64, 56, 56]          36,864\n",
            "      BatchNorm2d-13           [-1, 64, 56, 56]             128\n",
            "             ReLU-14           [-1, 64, 56, 56]               0\n",
            "           Conv2d-15           [-1, 64, 56, 56]          36,864\n",
            "      BatchNorm2d-16           [-1, 64, 56, 56]             128\n",
            "             ReLU-17           [-1, 64, 56, 56]               0\n",
            "       BasicBlock-18           [-1, 64, 56, 56]               0\n",
            "           Conv2d-19          [-1, 128, 28, 28]          73,728\n",
            "      BatchNorm2d-20          [-1, 128, 28, 28]             256\n",
            "             ReLU-21          [-1, 128, 28, 28]               0\n",
            "           Conv2d-22          [-1, 128, 28, 28]         147,456\n",
            "      BatchNorm2d-23          [-1, 128, 28, 28]             256\n",
            "           Conv2d-24          [-1, 128, 28, 28]           8,192\n",
            "      BatchNorm2d-25          [-1, 128, 28, 28]             256\n",
            "             ReLU-26          [-1, 128, 28, 28]               0\n",
            "       BasicBlock-27          [-1, 128, 28, 28]               0\n",
            "           Conv2d-28          [-1, 128, 28, 28]         147,456\n",
            "      BatchNorm2d-29          [-1, 128, 28, 28]             256\n",
            "             ReLU-30          [-1, 128, 28, 28]               0\n",
            "           Conv2d-31          [-1, 128, 28, 28]         147,456\n",
            "      BatchNorm2d-32          [-1, 128, 28, 28]             256\n",
            "             ReLU-33          [-1, 128, 28, 28]               0\n",
            "       BasicBlock-34          [-1, 128, 28, 28]               0\n",
            "           Conv2d-35          [-1, 256, 14, 14]         294,912\n",
            "      BatchNorm2d-36          [-1, 256, 14, 14]             512\n",
            "             ReLU-37          [-1, 256, 14, 14]               0\n",
            "           Conv2d-38          [-1, 256, 14, 14]         589,824\n",
            "      BatchNorm2d-39          [-1, 256, 14, 14]             512\n",
            "           Conv2d-40          [-1, 256, 14, 14]          32,768\n",
            "      BatchNorm2d-41          [-1, 256, 14, 14]             512\n",
            "             ReLU-42          [-1, 256, 14, 14]               0\n",
            "       BasicBlock-43          [-1, 256, 14, 14]               0\n",
            "           Conv2d-44          [-1, 256, 14, 14]         589,824\n",
            "      BatchNorm2d-45          [-1, 256, 14, 14]             512\n",
            "             ReLU-46          [-1, 256, 14, 14]               0\n",
            "           Conv2d-47          [-1, 256, 14, 14]         589,824\n",
            "      BatchNorm2d-48          [-1, 256, 14, 14]             512\n",
            "             ReLU-49          [-1, 256, 14, 14]               0\n",
            "       BasicBlock-50          [-1, 256, 14, 14]               0\n",
            "           Conv2d-51            [-1, 512, 7, 7]       1,179,648\n",
            "      BatchNorm2d-52            [-1, 512, 7, 7]           1,024\n",
            "             ReLU-53            [-1, 512, 7, 7]               0\n",
            "           Conv2d-54            [-1, 512, 7, 7]       2,359,296\n",
            "      BatchNorm2d-55            [-1, 512, 7, 7]           1,024\n",
            "           Conv2d-56            [-1, 512, 7, 7]         131,072\n",
            "      BatchNorm2d-57            [-1, 512, 7, 7]           1,024\n",
            "             ReLU-58            [-1, 512, 7, 7]               0\n",
            "       BasicBlock-59            [-1, 512, 7, 7]               0\n",
            "           Conv2d-60            [-1, 512, 7, 7]       2,359,296\n",
            "      BatchNorm2d-61            [-1, 512, 7, 7]           1,024\n",
            "             ReLU-62            [-1, 512, 7, 7]               0\n",
            "           Conv2d-63            [-1, 512, 7, 7]       2,359,296\n",
            "      BatchNorm2d-64            [-1, 512, 7, 7]           1,024\n",
            "             ReLU-65            [-1, 512, 7, 7]               0\n",
            "       BasicBlock-66            [-1, 512, 7, 7]               0\n",
            "AdaptiveAvgPool2d-67            [-1, 512, 1, 1]               0\n",
            "           Linear-68                   [-1, 10]           5,130\n",
            "================================================================\n",
            "Total params: 11,181,642\n",
            "Trainable params: 11,181,642\n",
            "Non-trainable params: 0\n",
            "----------------------------------------------------------------\n",
            "Input size (MB): 0.57\n",
            "Forward/backward pass size (MB): 62.79\n",
            "Params size (MB): 42.65\n",
            "Estimated Total Size (MB): 106.01\n",
            "----------------------------------------------------------------\n"
          ]
        }
      ],
      "source": [
        "# fine turning MODEL\n",
        "# change last model layer (model.fc) for classification on EuroSAT set of classes, 10 classes\n",
        "# (not 1000 like for ImageNet dataset pretrained weights)\n",
        "# pretrained models https://pytorch.org/vision/stable/models.html\n",
        "\n",
        "model = models.resnet18(weights=models.ResNet18_Weights.DEFAULT)\n",
        "model.fc = torch.nn.Linear(model.fc.in_features,10)\n",
        "model = model.to(device)\n",
        "torchsummary.summary(model, (3, 224, 224))"
      ]
    },
    {
      "cell_type": "code",
      "execution_count": 27,
      "metadata": {
        "id": "fap-QROui8Pr"
      },
      "outputs": [],
      "source": [
        "# Specify number of epochs and learning rate\n",
        "lr = 1e-3\n",
        "\n",
        "# Specify criterion and optimizer\n",
        "criterion = torch.nn.CrossEntropyLoss()\n",
        "optimizer = torch.optim.SGD(model.parameters(), lr=lr)"
      ]
    },
    {
      "cell_type": "code",
      "execution_count": 28,
      "metadata": {
        "id": "eE4entSvNc2q"
      },
      "outputs": [],
      "source": [
        "def train_step(model, loss_function, optimizer, image, label):\n",
        "    model.train()\n",
        "    optimizer.zero_grad()\n",
        "    prediction = model(image)\n",
        "    #print(prediction)\n",
        "    #print(label)\n",
        "    loss = loss_function(prediction.squeeze(), label.long().squeeze())\n",
        "    loss.backward()\n",
        "    optimizer.step()\n",
        "    return loss.item()"
      ]
    },
    {
      "cell_type": "code",
      "execution_count": 29,
      "metadata": {
        "id": "uvjKlBsNP_pF"
      },
      "outputs": [],
      "source": [
        "@torch.no_grad()\n",
        "def accuracy(model, loss_function, image, label):\n",
        "    model.eval()\n",
        "    prediction = model(image)\n",
        "    max_values, argmaxes = prediction.max(-1)\n",
        "    is_correct = argmaxes == label.int().squeeze()\n",
        "    return is_correct.cpu().numpy().tolist()"
      ]
    },
    {
      "cell_type": "code",
      "execution_count": 30,
      "metadata": {
        "id": "KNgDSfQDMSFI"
      },
      "outputs": [],
      "source": [
        "@torch.no_grad()\n",
        "def validation_loss(model, loss_function, image, label):\n",
        "    model.eval()\n",
        "    prediction = model(image)\n",
        "    loss = loss_function(prediction.squeeze(), label.long().squeeze())\n",
        "    return loss.item()"
      ]
    },
    {
      "cell_type": "code",
      "execution_count": 31,
      "metadata": {
        "colab": {
          "base_uri": "https://localhost:8080/"
        },
        "id": "Uy0FvQkumiN6",
        "outputId": "a1d870da-1235-400a-d0d6-500d32bc7818"
      },
      "outputs": [
        {
          "output_type": "stream",
          "name": "stdout",
          "text": [
            "Epoch: 1\n",
            "2.6754589080810547\n",
            "2.4446334838867188\n",
            "2.2975125312805176\n",
            "Train Loss: 2.4725\n",
            "Train Accuracy: 3.12%\n",
            "Test Loss: 2.3515\n",
            "Test Accuracy: 3.33%\n",
            "Epoch: 2\n",
            "2.1405394077301025\n",
            "2.096820592880249\n",
            "1.8661255836486816\n",
            "Train Loss: 2.0345\n",
            "Train Accuracy: 10.42%\n",
            "Test Loss: 2.2510\n",
            "Test Accuracy: 10.00%\n",
            "Epoch: 3\n",
            "1.808340072631836\n",
            "1.704218864440918\n",
            "1.677619457244873\n",
            "Train Loss: 1.7301\n",
            "Train Accuracy: 20.83%\n",
            "Test Loss: 2.0703\n",
            "Test Accuracy: 16.67%\n",
            "Epoch: 4\n",
            "1.4904274940490723\n",
            "1.5269757509231567\n",
            "1.3579407930374146\n",
            "Train Loss: 1.4584\n",
            "Train Accuracy: 48.96%\n",
            "Test Loss: 1.8690\n",
            "Test Accuracy: 30.00%\n",
            "Epoch: 5\n",
            "1.36862313747406\n",
            "1.1716930866241455\n",
            "1.2316466569900513\n",
            "Train Loss: 1.2573\n",
            "Train Accuracy: 71.88%\n",
            "Test Loss: 1.6220\n",
            "Test Accuracy: 50.00%\n",
            "Epoch: 6\n",
            "1.0672907829284668\n",
            "1.157966136932373\n",
            "1.1166081428527832\n",
            "Train Loss: 1.1140\n",
            "Train Accuracy: 73.96%\n",
            "Test Loss: 1.4339\n",
            "Test Accuracy: 63.33%\n",
            "Epoch: 7\n",
            "1.0431604385375977\n",
            "1.1051788330078125\n",
            "1.0155494213104248\n",
            "Train Loss: 1.0546\n",
            "Train Accuracy: 83.33%\n",
            "Test Loss: 1.2410\n",
            "Test Accuracy: 80.00%\n",
            "Epoch: 8\n",
            "0.9419706463813782\n",
            "0.9264845848083496\n",
            "0.8149096369743347\n",
            "Train Loss: 0.8945\n",
            "Train Accuracy: 78.12%\n",
            "Test Loss: 1.0268\n",
            "Test Accuracy: 86.67%\n",
            "Epoch: 9\n",
            "0.7546977996826172\n",
            "0.9597983360290527\n",
            "0.828402042388916\n",
            "Train Loss: 0.8476\n",
            "Train Accuracy: 87.50%\n",
            "Test Loss: 0.9023\n",
            "Test Accuracy: 83.33%\n",
            "Epoch: 10\n",
            "0.773093581199646\n",
            "0.7526199221611023\n",
            "0.8298510313034058\n",
            "Train Loss: 0.7852\n",
            "Train Accuracy: 92.71%\n",
            "Test Loss: 0.8405\n",
            "Test Accuracy: 86.67%\n"
          ]
        }
      ],
      "source": [
        "train_losses = []\n",
        "train_accuracies = []\n",
        "test_losses = []\n",
        "test_accuracies = []\n",
        "\n",
        "n_epochs = 10\n",
        "for epoch in range(n_epochs):\n",
        "    print(f\"Epoch: {epoch+1}\")\n",
        "    train_epoch_losses = []\n",
        "    train_epoch_accuracies = []\n",
        "    for idx,(image, label) in enumerate(train_dataset_loader):\n",
        "        loss = train_step(model, criterion, optimizer, image, label)\n",
        "        train_epoch_losses.append(loss)\n",
        "        print(loss)\n",
        "        #if (idx + 1) %100 == 0: print(loss)\n",
        "    train_epoch_loss = np.mean(train_epoch_losses)\n",
        "    print(f\"Train Loss: {train_epoch_loss:.4f}\")\n",
        "    train_losses.append(train_epoch_loss)\n",
        "\n",
        "    for idx,(image, label) in enumerate(train_dataset_loader):\n",
        "        is_correct = accuracy(model, criterion, image, label)\n",
        "        train_epoch_accuracies.extend(is_correct)\n",
        "    train_epoch_accuracy = np.mean(train_epoch_accuracies)\n",
        "    print(f\"Train Accuracy: {train_epoch_accuracy*100:.2f}%\")\n",
        "    train_accuracies.append(train_epoch_accuracy)\n",
        "\n",
        "    test_epoch_losses = []\n",
        "    test_epoch_accuracies = []\n",
        "    for idx,(image, label) in enumerate(test_dataset_loader):\n",
        "        #print(label)\n",
        "        loss = validation_loss(model, criterion, image, label)\n",
        "        test_epoch_losses.append(loss)\n",
        "        is_correct = accuracy(model, criterion, image, label)\n",
        "        test_epoch_accuracies.extend(is_correct)\n",
        "    test_epoch_loss = np.mean(test_epoch_losses)\n",
        "    print(f\"Test Loss: {test_epoch_loss:.4f}\")\n",
        "    test_losses.append(test_epoch_loss)\n",
        "    test_epcoh_accuracy = np.mean(test_epoch_accuracies)\n",
        "    print(f\"Test Accuracy: {test_epcoh_accuracy*100:.2f}%\")\n",
        "    test_accuracies.append(test_epcoh_accuracy)"
      ]
    },
    {
      "cell_type": "code",
      "execution_count": 32,
      "metadata": {
        "id": "riBvu9R8rV7h"
      },
      "outputs": [],
      "source": [
        "# example of model saving\n",
        "model_dir = \"./models/\"\n",
        "if not os.path.exists(model_dir):\n",
        "  os.makedirs(model_dir)\n",
        "\n",
        "model_file = os.path.join(model_dir, 'best_model.pth')\n",
        "model_file\n",
        "torch.save(model.state_dict(), model_file)"
      ]
    },
    {
      "cell_type": "code",
      "execution_count": 33,
      "metadata": {
        "id": "em2xesOoRNr2"
      },
      "outputs": [],
      "source": [
        "torch.save(model.state_dict(), model_file)"
      ]
    },
    {
      "cell_type": "code",
      "execution_count": 34,
      "metadata": {
        "collapsed": true,
        "id": "oRRJ0vlCheDD"
      },
      "outputs": [],
      "source": [
        "# EXAMPLE OF MODEL LOADING\n",
        "model = models.resnet18(weights=models.ResNet18_Weights.DEFAULT)\n",
        "model.fc = torch.nn.Linear(model.fc.in_features,10)\n",
        "model = model.to(device)"
      ]
    },
    {
      "cell_type": "code",
      "execution_count": 36,
      "metadata": {
        "colab": {
          "base_uri": "https://localhost:8080/",
          "height": 158
        },
        "id": "9CnI7XOQSiP0",
        "outputId": "9033162c-9aa5-4505-a6b4-78069a9b7b2e"
      },
      "outputs": [
        {
          "output_type": "error",
          "ename": "NameError",
          "evalue": "name 'PATH' is not defined",
          "traceback": [
            "\u001b[0;31m---------------------------------------------------------------------------\u001b[0m",
            "\u001b[0;31mNameError\u001b[0m                                 Traceback (most recent call last)",
            "\u001b[0;32m<ipython-input-36-401c1235af15>\u001b[0m in \u001b[0;36m<cell line: 2>\u001b[0;34m()\u001b[0m\n\u001b[1;32m      1\u001b[0m \u001b[0;31m# example of loading model from the file\u001b[0m\u001b[0;34m\u001b[0m\u001b[0;34m\u001b[0m\u001b[0m\n\u001b[0;32m----> 2\u001b[0;31m \u001b[0mmodel\u001b[0m\u001b[0;34m.\u001b[0m\u001b[0mload_state_dict\u001b[0m\u001b[0;34m(\u001b[0m\u001b[0mtorch\u001b[0m\u001b[0;34m.\u001b[0m\u001b[0mload\u001b[0m\u001b[0;34m(\u001b[0m\u001b[0mPATH\u001b[0m\u001b[0;34m,\u001b[0m \u001b[0mweights_only\u001b[0m\u001b[0;34m=\u001b[0m\u001b[0;32mTrue\u001b[0m\u001b[0;34m)\u001b[0m\u001b[0;34m)\u001b[0m\u001b[0;34m\u001b[0m\u001b[0;34m\u001b[0m\u001b[0m\n\u001b[0m",
            "\u001b[0;31mNameError\u001b[0m: name 'PATH' is not defined"
          ]
        }
      ],
      "source": [
        "# example of loading model from the file\n",
        "model.load_state_dict(torch.load(PATH, weights_only=True))"
      ]
    },
    {
      "cell_type": "code",
      "execution_count": 18,
      "metadata": {
        "id": "_axn2waWmvou"
      },
      "outputs": [],
      "source": [
        "# 1. Выберите иную модель из доступных предтренированных моделей: https://pytorch.org/vision/main/models.html\n",
        "# Загрузите предобученные веса.\n",
        "# 2. Преобразуйте выходной слой модели для дообучения на текущей задаче классификации.\n",
        "# 3. Дообучите модель.\n",
        "# 3.1 Проводите обучение, по возможности, на всем доступном наборе данных. Если вычислительных мощностей достаточно,\n",
        "# можете использовать полный набор данных EuroSAT (без _small).\n",
        "# 4. Сохраните модель с лучшими параметрами качества.\n",
        "\n",
        "# Изучите аугментацию данных https://pytorch.org/vision/main/transforms.html\n",
        "# Добавьте дополнительную аугментацию данных для шага тренировки.\n",
        "# Проведите дообучение еще раз. Исследуйте, изменилась ли скорость сходимости сети. Какова точность классификации?"
      ]
    },
    {
      "cell_type": "markdown",
      "source": [
        "#Домашняя работа"
      ],
      "metadata": {
        "id": "so6rxoDuoG7b"
      }
    },
    {
      "cell_type": "code",
      "source": [
        "model = models.densenet121(weights=models.DenseNet121_Weights.DEFAULT) #загружаем модель densenet121\n"
      ],
      "metadata": {
        "colab": {
          "base_uri": "https://localhost:8080/"
        },
        "id": "XNy97g2ToDgv",
        "outputId": "e7b2c3e6-8f14-4b1f-ed76-b5d409bc77a8"
      },
      "execution_count": 19,
      "outputs": [
        {
          "output_type": "stream",
          "name": "stderr",
          "text": [
            "Downloading: \"https://download.pytorch.org/models/densenet121-a639ec97.pth\" to /root/.cache/torch/hub/checkpoints/densenet121-a639ec97.pth\n",
            "100%|██████████| 30.8M/30.8M [00:00<00:00, 98.3MB/s]\n"
          ]
        }
      ]
    },
    {
      "cell_type": "code",
      "source": [
        "model.classifier = torch.nn.Linear(model.classifier.in_features, 10)\n"
      ],
      "metadata": {
        "id": "coUobbytoOGK"
      },
      "execution_count": 20,
      "outputs": []
    },
    {
      "cell_type": "code",
      "source": [
        "import torch\n",
        "\n",
        "# Путь для сохранения модели\n",
        "model_dir = \"./models/\"\n",
        "if not os.path.exists(model_dir):\n",
        "    os.makedirs(model_dir)\n",
        "\n",
        "\n",
        "model_file = os.path.join(model_dir, 'best_model.pth')\n",
        "\n",
        "# Переменная для хранения лучшей точности\n",
        "best_accuracy = 0.0\n",
        "\n",
        "n_epochs = 10\n",
        "for epoch in range(n_epochs):\n",
        "    print(f\"Epoch: {epoch+1}\")\n",
        "\n",
        "    # Обучение\n",
        "    train_epoch_losses = []\n",
        "    train_epoch_accuracies = []\n",
        "    for idx, (image, label) in enumerate(train_dataset_loader):\n",
        "        loss = train_step(model, criterion, optimizer, image, label)\n",
        "        train_epoch_losses.append(loss)\n",
        "\n",
        "    train_epoch_loss = np.mean(train_epoch_losses)\n",
        "    print(f\"Train Loss: {train_epoch_loss:.4f}\")\n",
        "\n",
        "    # Точность на тренировочной выборке\n",
        "    for idx, (image, label) in enumerate(train_dataset_loader):\n",
        "        is_correct = accuracy(model, criterion, image, label)\n",
        "        train_epoch_accuracies.extend(is_correct)\n",
        "    train_epoch_accuracy = np.mean(train_epoch_accuracies)\n",
        "    print(f\"Train Accuracy: {train_epoch_accuracy * 100:.2f}%\")\n",
        "\n",
        "    # Валидация\n",
        "    test_epoch_losses = []\n",
        "    test_epoch_accuracies = []\n",
        "    for idx, (image, label) in enumerate(test_dataset_loader):\n",
        "        loss = validation_loss(model, criterion, image, label)\n",
        "        test_epoch_losses.append(loss)\n",
        "        is_correct = accuracy(model, criterion, image, label)\n",
        "        test_epoch_accuracies.extend(is_correct)\n",
        "\n",
        "    test_epoch_loss = np.mean(test_epoch_losses)\n",
        "    test_epoch_accuracy = np.mean(test_epoch_accuracies)\n",
        "\n",
        "    print(f\"Test Loss: {test_epoch_loss:.4f}\")\n",
        "    print(f\"Test Accuracy: {test_epoch_accuracy * 100:.2f}%\")\n",
        "\n",
        "    # Если текущая точность на тесте лучше, чем лучшая точность, обновляем и сохраняем модель\n",
        "    if test_epoch_accuracy > best_accuracy:\n",
        "        best_accuracy = test_epoch_accuracy\n",
        "        print(f\"New best model found! Saving model...\")\n",
        "\n",
        "        # Сохранение модели\n",
        "        torch.save(model.state_dict(), model_file)\n",
        "\n"
      ],
      "metadata": {
        "colab": {
          "base_uri": "https://localhost:8080/"
        },
        "id": "UcxOvITapxK7",
        "outputId": "0bcfa047-a85d-4314-ba08-88cec65a92de"
      },
      "execution_count": 44,
      "outputs": [
        {
          "output_type": "stream",
          "name": "stdout",
          "text": [
            "Epoch: 1\n",
            "Train Loss: 0.1929\n",
            "Train Accuracy: 94.79%\n",
            "Test Loss: 0.2196\n",
            "Test Accuracy: 96.67%\n",
            "New best model found! Saving model...\n",
            "Epoch: 2\n",
            "Train Loss: 0.2106\n",
            "Train Accuracy: 96.88%\n",
            "Test Loss: 0.2270\n",
            "Test Accuracy: 96.67%\n",
            "Epoch: 3\n",
            "Train Loss: 0.2171\n",
            "Train Accuracy: 98.96%\n",
            "Test Loss: 0.2262\n",
            "Test Accuracy: 96.67%\n",
            "Epoch: 4\n",
            "Train Loss: 0.2291\n",
            "Train Accuracy: 97.92%\n",
            "Test Loss: 0.2198\n",
            "Test Accuracy: 96.67%\n",
            "Epoch: 5\n",
            "Train Loss: 0.1789\n",
            "Train Accuracy: 96.88%\n",
            "Test Loss: 0.2197\n",
            "Test Accuracy: 96.67%\n",
            "Epoch: 6\n",
            "Train Loss: 0.1982\n",
            "Train Accuracy: 96.88%\n",
            "Test Loss: 0.2167\n",
            "Test Accuracy: 96.67%\n",
            "Epoch: 7\n",
            "Train Loss: 0.2394\n",
            "Train Accuracy: 95.83%\n",
            "Test Loss: 0.2110\n",
            "Test Accuracy: 96.67%\n",
            "Epoch: 8\n",
            "Train Loss: 0.2319\n",
            "Train Accuracy: 98.96%\n",
            "Test Loss: 0.2008\n",
            "Test Accuracy: 96.67%\n",
            "Epoch: 9\n",
            "Train Loss: 0.1785\n",
            "Train Accuracy: 94.79%\n",
            "Test Loss: 0.1885\n",
            "Test Accuracy: 96.67%\n",
            "Epoch: 10\n",
            "Train Loss: 0.1766\n",
            "Train Accuracy: 96.88%\n",
            "Test Loss: 0.1936\n",
            "Test Accuracy: 96.67%\n"
          ]
        }
      ]
    },
    {
      "cell_type": "markdown",
      "source": [
        "# Добавление аргументации и дальнеешее дообучение"
      ],
      "metadata": {
        "id": "CZno2DwQr0Kn"
      }
    },
    {
      "cell_type": "code",
      "source": [
        "from torchvision import transforms\n",
        "\n",
        "class EuroSATDataset(Dataset):\n",
        "\n",
        "    def __init__(self, root, train_flag=True):\n",
        "        self.train_flag = train_flag\n",
        "        self.root = root\n",
        "        self.images_paths = [glob(f'{root}/{folder}/*.jpg') for folder in os.listdir(f\"{root}\")]\n",
        "        self.images_paths = list(chain.from_iterable(self.images_paths))\n",
        "        random.shuffle(self.images_paths)\n",
        "\n",
        "        self.count = {True: 100}\n",
        "        self.count[False] = 30\n",
        "\n",
        "        self.classes_names = {class_name: label for label, class_name in enumerate(os.listdir(f\"{root}\"))}\n",
        "        self.labels = [self.classes_names[os.path.basename(os.path.dirname(path))] for path in self.images_paths]\n",
        "\n",
        "        # Добавляем дополнительные аугментации\n",
        "        self.transform_train = transforms.Compose([\n",
        "            transforms.RandomResizedCrop(224),  # случайное обрезание с изменением размера\n",
        "            transforms.RandomHorizontalFlip(),  # случайный горизонтальный флип\n",
        "            transforms.ColorJitter(brightness=0.2, contrast=0.2, saturation=0.2, hue=0.2),  # изменение яркости, контраста, насыщенности, оттенка\n",
        "            transforms.RandomRotation(15),  # случайное вращение на угол до 15 градусов\n",
        "            transforms.ToTensor(),  # преобразуем изображение в тензор\n",
        "            transforms.Normalize(mean=[0.485, 0.456, 0.406], std=[0.229, 0.224, 0.225])  # нормализация\n",
        "        ])\n",
        "\n",
        "        # Для тестовых данных только нормализация и изменение размера\n",
        "        self.transform_test = transforms.Compose([\n",
        "            transforms.Resize(256),  # изменение размера\n",
        "            transforms.CenterCrop(224),  # обрезка центральной части\n",
        "            transforms.ToTensor(),  # преобразуем изображение в тензор\n",
        "            transforms.Normalize(mean=[0.485, 0.456, 0.406], std=[0.229, 0.224, 0.225])  # нормализация\n",
        "        ])\n",
        "\n",
        "    def __len__(self):\n",
        "        return self.count[self.train_flag]\n",
        "\n",
        "    def __getitem__(self, index):\n",
        "        if self.train_flag:\n",
        "            index = index % self.count[True]\n",
        "        else:\n",
        "            index = self.count[True] + index % self.count[False]\n",
        "\n",
        "        image_path = self.images_paths[index]\n",
        "        image = cv2.imread(image_path)[:,:,::-1]  # читаем изображение (BGR -> RGB)\n",
        "        image = cv2.resize(image, (224, 224))  # изменение размера\n",
        "\n",
        "        # Преобразуем в тензор и применяем аугментации\n",
        "        image = torch.tensor(image / 255).permute(2, 0, 1).to(device)  # нормализуем и перемещаем на GPU\n",
        "\n",
        "        # Применяем аугментации в зависимости от того, является ли это обучающим набором\n",
        "        if self.train_flag:\n",
        "            image = self.transform_train(image)\n",
        "        else:\n",
        "            image = self.transform_test(image)\n",
        "\n",
        "        label = self.labels[index]\n",
        "        return image.float().to(device), torch.tensor([label]).long().to(device)  # возвращаем данные на GPU\n"
      ],
      "metadata": {
        "id": "sqJZvGDDrdGC"
      },
      "execution_count": 45,
      "outputs": []
    },
    {
      "cell_type": "code",
      "source": [
        "import matplotlib.pyplot as plt\n",
        "\n",
        "# Переменные для хранения результатов\n",
        "train_losses = []\n",
        "test_losses = []\n",
        "train_accuracies = []\n",
        "test_accuracies = []\n",
        "\n",
        "# Добавим код для построения графиков сходимости\n",
        "def plot_convergence(train_losses, test_losses, train_accuracies, test_accuracies):\n",
        "    # Графики потерь\n",
        "    plt.figure(figsize=(10, 5))\n",
        "    plt.subplot(1, 2, 1)\n",
        "    plt.plot(train_losses, label='Train Loss')\n",
        "    plt.plot(test_losses, label='Test Loss')\n",
        "    plt.xlabel('Epoch')\n",
        "    plt.ylabel('Loss')\n",
        "    plt.title('Loss Convergence')\n",
        "    plt.legend()\n",
        "\n",
        "    # Графики точности\n",
        "    plt.subplot(1, 2, 2)\n",
        "    plt.plot(train_accuracies, label='Train Accuracy')\n",
        "    plt.plot(test_accuracies, label='Test Accuracy')\n",
        "    plt.xlabel('Epoch')\n",
        "    plt.ylabel('Accuracy')\n",
        "    plt.title('Accuracy Convergence')\n",
        "    plt.legend()\n",
        "\n",
        "    plt.tight_layout()\n",
        "    plt.show()\n",
        "\n",
        "# Дообучение модели с аугментацией\n",
        "n_epochs = 10\n",
        "for epoch in range(n_epochs):\n",
        "    print(f\"Epoch: {epoch+1}\")\n",
        "\n",
        "    # Обучение\n",
        "    train_epoch_losses = []\n",
        "    train_epoch_accuracies = []\n",
        "    for idx, (image, label) in enumerate(train_dataset_loader):\n",
        "        loss = train_step(model, criterion, optimizer, image, label)\n",
        "        train_epoch_losses.append(loss)\n",
        "\n",
        "    train_epoch_loss = np.mean(train_epoch_losses)\n",
        "    print(f\"Train Loss: {train_epoch_loss:.4f}\")\n",
        "\n",
        "    # Точность на тренировочной выборке\n",
        "    for idx, (image, label) in enumerate(train_dataset_loader):\n",
        "        is_correct = accuracy(model, criterion, image, label)\n",
        "        train_epoch_accuracies.extend(is_correct)\n",
        "    train_epoch_accuracy = np.mean(train_epoch_accuracies)\n",
        "    print(f\"Train Accuracy: {train_epoch_accuracy * 100:.2f}%\")\n",
        "\n",
        "    train_losses.append(train_epoch_loss)\n",
        "    train_accuracies.append(train_epoch_accuracy)\n",
        "\n",
        "    # Валидация\n",
        "    test_epoch_losses = []\n",
        "    test_epoch_accuracies = []\n",
        "    for idx, (image, label) in enumerate(test_dataset_loader):\n",
        "        loss = validation_loss(model, criterion, image, label)\n",
        "        test_epoch_losses.append(loss)\n",
        "        is_correct = accuracy(model, criterion, image, label)\n",
        "        test_epoch_accuracies.extend(is_correct)\n",
        "\n",
        "    test_epoch_loss = np.mean(test_epoch_losses)\n",
        "    test_epoch_accuracy = np.mean(test_epoch_accuracies)\n",
        "\n",
        "    print(f\"Test Loss: {test_epoch_loss:.4f}\")\n",
        "    print(f\"Test Accuracy: {test_epoch_accuracy * 100:.2f}%\")\n",
        "\n",
        "    test_losses.append(test_epoch_loss)\n",
        "    test_accuracies.append(test_epoch_accuracy)\n",
        "\n",
        "# Построение графиков сходимости\n",
        "plot_convergence(train_losses, test_losses, train_accuracies, test_accuracies)\n",
        "\n"
      ],
      "metadata": {
        "colab": {
          "base_uri": "https://localhost:8080/",
          "height": 1000
        },
        "id": "kDo84kYpshND",
        "outputId": "3d268d9f-b06d-4f4c-c037-7e0c96a84b16"
      },
      "execution_count": 46,
      "outputs": [
        {
          "output_type": "stream",
          "name": "stdout",
          "text": [
            "Epoch: 1\n",
            "Train Loss: 0.1735\n",
            "Train Accuracy: 94.79%\n",
            "Test Loss: 0.1866\n",
            "Test Accuracy: 96.67%\n",
            "Epoch: 2\n",
            "Train Loss: 0.2178\n",
            "Train Accuracy: 94.79%\n",
            "Test Loss: 0.1889\n",
            "Test Accuracy: 96.67%\n",
            "Epoch: 3\n",
            "Train Loss: 0.1399\n",
            "Train Accuracy: 97.92%\n",
            "Test Loss: 0.1663\n",
            "Test Accuracy: 96.67%\n",
            "Epoch: 4\n",
            "Train Loss: 0.1552\n",
            "Train Accuracy: 97.92%\n",
            "Test Loss: 0.1565\n",
            "Test Accuracy: 96.67%\n",
            "Epoch: 5\n",
            "Train Loss: 0.1760\n",
            "Train Accuracy: 96.88%\n",
            "Test Loss: 0.1552\n",
            "Test Accuracy: 96.67%\n",
            "Epoch: 6\n",
            "Train Loss: 0.1222\n",
            "Train Accuracy: 95.83%\n",
            "Test Loss: 0.1511\n",
            "Test Accuracy: 96.67%\n",
            "Epoch: 7\n",
            "Train Loss: 0.1787\n",
            "Train Accuracy: 100.00%\n",
            "Test Loss: 0.1463\n",
            "Test Accuracy: 96.67%\n",
            "Epoch: 8\n",
            "Train Loss: 0.1607\n",
            "Train Accuracy: 98.96%\n",
            "Test Loss: 0.1483\n",
            "Test Accuracy: 96.67%\n",
            "Epoch: 9\n",
            "Train Loss: 0.1661\n",
            "Train Accuracy: 98.96%\n",
            "Test Loss: 0.1613\n",
            "Test Accuracy: 96.67%\n",
            "Epoch: 10\n",
            "Train Loss: 0.1444\n",
            "Train Accuracy: 96.88%\n",
            "Test Loss: 0.1752\n",
            "Test Accuracy: 96.67%\n"
          ]
        },
        {
          "output_type": "display_data",
          "data": {
            "text/plain": [
              "<Figure size 1000x500 with 2 Axes>"
            ],
            "image/png": "[encoded data removed]"
          },
          "metadata": {}
        }
      ]
    }
  ],
  "metadata": {
    "accelerator": "GPU",
    "colab": {
      "collapsed_sections": [
        "cZzXC7IHCazM",
        "ET8xcMK0WEeJ",
        "KLhzjCifTcW5"
      ],
      "provenance": []
    },
    "gpuClass": "standard",
    "kernelspec": {
      "display_name": "Python 3 (ipykernel)",
      "language": "python",
      "name": "python3"
    },
    "language_info": {
      "codemirror_mode": {
        "name": "ipython",
        "version": 3
      },
      "file_extension": ".py",
      "mimetype": "text/x-python",
      "name": "python",
      "nbconvert_exporter": "python",
      "pygments_lexer": "ipython3",
      "version": "3.10.4"
    }
  },
  "nbformat": 4,
  "nbformat_minor": 0
}